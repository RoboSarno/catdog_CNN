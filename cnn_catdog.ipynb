{
 "cells": [
  {
   "cell_type": "code",
   "execution_count": 3,
   "source": [
    "import tensorflow as tf\n",
    "from keras.preprocessing.image import ImageDataGenerator\n",
    "import sys\n",
    "from IPython.display import display\n",
    "from PIL import Image"
   ],
   "outputs": [],
   "metadata": {}
  },
  {
   "cell_type": "code",
   "execution_count": 4,
   "source": [
    "# Preprocessing Train Data Set and Test Set\n",
    "train_datagen = ImageDataGenerator(rescale = 1./255,\n",
    "                                   shear_range = 0.2,\n",
    "                                   zoom_range = 0.2,\n",
    "                                   horizontal_flip = True)\n",
    "\n",
    "training_set = train_datagen.flow_from_directory('dataset/training_set',\n",
    "                                                 target_size = (64, 64),\n",
    "                                                 batch_size = 32,\n",
    "                                                 class_mode = 'binary')\n",
    "\n",
    "test_datagen = ImageDataGenerator(rescale = 1./255)\n",
    "test_set = test_datagen.flow_from_directory('dataset/test_set',\n",
    "                                            target_size = (64, 64),\n",
    "                                            batch_size = 32,\n",
    "                                            class_mode = 'binary')"
   ],
   "outputs": [
    {
     "output_type": "stream",
     "name": "stdout",
     "text": [
      "Found 8000 images belonging to 2 classes.\n",
      "Found 2000 images belonging to 2 classes.\n"
     ]
    }
   ],
   "metadata": {}
  },
  {
   "cell_type": "code",
   "execution_count": 5,
   "source": [
    "# Building CNN\n",
    "\n",
    "cnn = tf.keras.models.Sequential()\n",
    "\n",
    "# Adding convolution layer\n",
    "cnn.add(tf.keras.layers.Conv2D(filters=32, kernel_size=3, activation='relu', input_shape=[64, 64, 3]))\n",
    "# Adding Pooling layer \n",
    "cnn.add(tf.keras.layers.MaxPool2D(pool_size=2, strides=2))\n",
    "# Adding convolution layer 2\n",
    "cnn.add(tf.keras.layers.Conv2D(filters=32, kernel_size=3, activation='relu'))\n",
    "# Adding Pooling layer 2\n",
    "cnn.add(tf.keras.layers.MaxPool2D(pool_size=2, strides=2))\n",
    "\n",
    "\n",
    "# Adding Flattinging layer\n",
    "cnn.add(tf.keras.layers.Flatten())\n",
    "\n",
    "\n",
    "# Full Conection\n",
    "cnn.add(tf.keras.layers.Dense(units=128, activation='relu'))\n",
    "# Outer layer\n",
    "cnn.add(tf.keras.layers.Dense(units=1, activation='sigmoid'))"
   ],
   "outputs": [
    {
     "output_type": "stream",
     "name": "stderr",
     "text": [
      "2021-09-24 14:10:01.507620: I tensorflow/core/platform/cpu_feature_guard.cc:142] This TensorFlow binary is optimized with oneAPI Deep Neural Network Library (oneDNN) to use the following CPU instructions in performance-critical operations:  AVX2 FMA\n",
      "To enable them in other operations, rebuild TensorFlow with the appropriate compiler flags.\n"
     ]
    }
   ],
   "metadata": {}
  },
  {
   "cell_type": "code",
   "execution_count": 6,
   "source": [
    "# Train CNN\n",
    "cnn.compile(optimizer = 'adam', loss = 'binary_crossentropy', metrics = ['accuracy'])\n",
    "\n",
    "# Training the CNN on the Training set and evaluating it on the Test set\n",
    "cnn.fit(x = training_set, validation_data = test_set, epochs = 25)"
   ],
   "outputs": [
    {
     "output_type": "stream",
     "name": "stderr",
     "text": [
      "2021-09-24 14:10:02.292397: I tensorflow/compiler/mlir/mlir_graph_optimization_pass.cc:185] None of the MLIR Optimization Passes are enabled (registered 2)\n"
     ]
    },
    {
     "output_type": "stream",
     "name": "stdout",
     "text": [
      "Epoch 1/25\n",
      "250/250 [==============================] - 43s 170ms/step - loss: 0.6567 - accuracy: 0.5960 - val_loss: 0.5951 - val_accuracy: 0.6910\n",
      "Epoch 2/25\n",
      "250/250 [==============================] - 41s 162ms/step - loss: 0.5854 - accuracy: 0.6935 - val_loss: 0.5387 - val_accuracy: 0.7300\n",
      "Epoch 3/25\n",
      "250/250 [==============================] - 41s 163ms/step - loss: 0.5499 - accuracy: 0.7199 - val_loss: 0.5611 - val_accuracy: 0.7065\n",
      "Epoch 4/25\n",
      "250/250 [==============================] - 40s 159ms/step - loss: 0.5270 - accuracy: 0.7358 - val_loss: 0.5148 - val_accuracy: 0.7605\n",
      "Epoch 5/25\n",
      "250/250 [==============================] - 41s 163ms/step - loss: 0.5034 - accuracy: 0.7566 - val_loss: 0.4955 - val_accuracy: 0.7735\n",
      "Epoch 6/25\n",
      "250/250 [==============================] - 50s 199ms/step - loss: 0.4856 - accuracy: 0.7640 - val_loss: 0.4774 - val_accuracy: 0.7790\n",
      "Epoch 7/25\n",
      "250/250 [==============================] - 53s 212ms/step - loss: 0.4674 - accuracy: 0.7760 - val_loss: 0.4961 - val_accuracy: 0.7705\n",
      "Epoch 8/25\n",
      "250/250 [==============================] - 47s 186ms/step - loss: 0.4523 - accuracy: 0.7874 - val_loss: 0.4646 - val_accuracy: 0.7850\n",
      "Epoch 9/25\n",
      "250/250 [==============================] - 38s 151ms/step - loss: 0.4393 - accuracy: 0.7908 - val_loss: 0.4696 - val_accuracy: 0.7800\n",
      "Epoch 10/25\n",
      "250/250 [==============================] - 39s 158ms/step - loss: 0.4299 - accuracy: 0.7962 - val_loss: 0.4902 - val_accuracy: 0.7765\n",
      "Epoch 11/25\n",
      "250/250 [==============================] - 42s 167ms/step - loss: 0.4164 - accuracy: 0.8098 - val_loss: 0.4960 - val_accuracy: 0.7755\n",
      "Epoch 12/25\n",
      "250/250 [==============================] - 37s 147ms/step - loss: 0.4015 - accuracy: 0.8133 - val_loss: 0.4871 - val_accuracy: 0.7890\n",
      "Epoch 13/25\n",
      "250/250 [==============================] - 40s 159ms/step - loss: 0.4005 - accuracy: 0.8126 - val_loss: 0.4594 - val_accuracy: 0.7900\n",
      "Epoch 14/25\n",
      "250/250 [==============================] - 40s 161ms/step - loss: 0.3840 - accuracy: 0.8251 - val_loss: 0.4800 - val_accuracy: 0.7905\n",
      "Epoch 15/25\n",
      "250/250 [==============================] - 45s 179ms/step - loss: 0.3741 - accuracy: 0.8310 - val_loss: 0.4796 - val_accuracy: 0.7910\n",
      "Epoch 16/25\n",
      "250/250 [==============================] - 41s 164ms/step - loss: 0.3602 - accuracy: 0.8380 - val_loss: 0.4880 - val_accuracy: 0.7870\n",
      "Epoch 17/25\n",
      "250/250 [==============================] - 40s 160ms/step - loss: 0.3618 - accuracy: 0.8382 - val_loss: 0.4990 - val_accuracy: 0.7880\n",
      "Epoch 18/25\n",
      "250/250 [==============================] - 41s 163ms/step - loss: 0.3440 - accuracy: 0.8465 - val_loss: 0.4815 - val_accuracy: 0.7905\n",
      "Epoch 19/25\n",
      "250/250 [==============================] - 41s 166ms/step - loss: 0.3366 - accuracy: 0.8474 - val_loss: 0.4643 - val_accuracy: 0.8045\n",
      "Epoch 20/25\n",
      "250/250 [==============================] - 41s 163ms/step - loss: 0.3238 - accuracy: 0.8571 - val_loss: 0.4729 - val_accuracy: 0.8025\n",
      "Epoch 21/25\n",
      "250/250 [==============================] - 43s 171ms/step - loss: 0.3128 - accuracy: 0.8619 - val_loss: 0.4929 - val_accuracy: 0.7995\n",
      "Epoch 22/25\n",
      "250/250 [==============================] - 43s 172ms/step - loss: 0.3003 - accuracy: 0.8684 - val_loss: 0.5048 - val_accuracy: 0.8090\n",
      "Epoch 23/25\n",
      "250/250 [==============================] - 41s 166ms/step - loss: 0.2987 - accuracy: 0.8706 - val_loss: 0.4944 - val_accuracy: 0.8080\n",
      "Epoch 24/25\n",
      "250/250 [==============================] - 36s 145ms/step - loss: 0.2913 - accuracy: 0.8751 - val_loss: 0.5304 - val_accuracy: 0.7945\n",
      "Epoch 25/25\n",
      "250/250 [==============================] - 36s 142ms/step - loss: 0.2733 - accuracy: 0.8827 - val_loss: 0.5167 - val_accuracy: 0.8010\n"
     ]
    },
    {
     "output_type": "execute_result",
     "data": {
      "text/plain": [
       "<keras.callbacks.History at 0x1687d1a60>"
      ]
     },
     "metadata": {},
     "execution_count": 6
    }
   ],
   "metadata": {}
  },
  {
   "cell_type": "code",
   "execution_count": 13,
   "source": [
    "# Making a single Prediction\n",
    "import numpy as np\n",
    "from keras.preprocessing import image\n",
    "\n",
    "# test image variable\n",
    "test_image = image.load_img('dataset/single_prediction/cat_or_dog_1.jpg', target_size = (64,64))\n",
    "test_image = image.img_to_array(test_image)\n",
    "test_image = np.expand_dims(test_image, axis = 0)\n",
    "# dog\n",
    "\n",
    "\n",
    "test_image2 = image.load_img('dataset/single_prediction/cat_or_dog_2.jpg', target_size = (64,64))\n",
    "test_image2 = image.img_to_array(test_image2)\n",
    "test_image2 = np.expand_dims(test_image2, axis = 0)\n",
    "# cat\n",
    "\n",
    "test_image3 = image.load_img('dataset/single_prediction/IMG_1560.HEIC.jpg', target_size = (64,64))\n",
    "test_image3 = image.img_to_array(test_image3)\n",
    "test_image3 = np.expand_dims(test_image3, axis = 0)\n",
    "# dog but says cat\n",
    "\n",
    "test_image4 = image.load_img('dataset/single_prediction/cat_or_dog_4.jpg', target_size = (64,64))\n",
    "test_image4 = image.img_to_array(test_image4)\n",
    "test_image4 = np.expand_dims(test_image4, axis = 0)\n",
    "# cat\n",
    "\n",
    "\n",
    "result = cnn.predict(test_image3)"
   ],
   "outputs": [],
   "metadata": {}
  },
  {
   "cell_type": "code",
   "execution_count": 14,
   "source": [
    "# training_set.class_indicies\n",
    "if result[0][0] == 1:\n",
    "    prediction = 'dog'\n",
    "else:\n",
    "    prediction = 'cat'\n",
    "print(prediction)"
   ],
   "outputs": [
    {
     "output_type": "stream",
     "name": "stdout",
     "text": [
      "cat\n"
     ]
    }
   ],
   "metadata": {}
  }
 ],
 "metadata": {
  "orig_nbformat": 4,
  "language_info": {
   "name": "python",
   "version": "3.9.7",
   "mimetype": "text/x-python",
   "codemirror_mode": {
    "name": "ipython",
    "version": 3
   },
   "pygments_lexer": "ipython3",
   "nbconvert_exporter": "python",
   "file_extension": ".py"
  },
  "kernelspec": {
   "name": "python3",
   "display_name": "Python 3.9.7 64-bit ('CNN': venv)"
  },
  "interpreter": {
   "hash": "ecc6c2da7bb1e14b3b6fabc49c24cab742cbcaf04542082d88ddfd954ff3f17b"
  }
 },
 "nbformat": 4,
 "nbformat_minor": 2
}